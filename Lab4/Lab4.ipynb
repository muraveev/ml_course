{
 "cells": [
  {
   "cell_type": "markdown",
   "metadata": {},
   "source": [
    "# Подготовка обучающей и тестовой выборки, кросс-валидация и подбор гиперпараметров на примере метода ближайших соседей. "
   ]
  },
  {
   "cell_type": "markdown",
   "metadata": {},
   "source": [
    "## Задание\n",
    "\n",
    "1. Выберите набор данных (датасет) для решения задачи классификации или регресии.\n",
    "2. В случае необходимости проведите удаление или заполнение пропусков и кодирование категориальных признаков.\n",
    "3. С использованием метода train_test_split разделите выборку на обучающую и тестовую.\n",
    "4. Обучите модель ближайших соседей для произвольно заданного гиперпараметра K. Оцените качество модели с помощью трех подходящих для задачи метрик.\n",
    "5. Постройте модель и оцените качество модели с использованием кросс-валидации. Проведите эксперименты с тремя различными стратегиями кросс-валидации.\n",
    "6. Произведите подбор гиперпараметра K с использованием GridSearchCV и кросс-валидации.\n",
    "7. Повторите пункт 4 для найденного оптимального значения гиперпараметра K. Сравните качество полученной модели с качеством модели, полученной в пункте 4.\n",
    "8. Постройте кривые обучения и валидации."
   ]
  },
  {
   "cell_type": "code",
   "execution_count": 155,
   "metadata": {},
   "outputs": [],
   "source": [
    "import pandas as pd\n",
    "from enum import Enum\n",
    "from sklearn.preprocessing import LabelEncoder\n",
    "from sklearn.model_selection import train_test_split\n",
    "from operator import itemgetter\n",
    "import matplotlib.pyplot as plt\n",
    "import numpy as np\n",
    "import sklearn.metrics\n",
    "from sklearn.neighbors import KNeighborsRegressor\n",
    "from sklearn.metrics import mean_squared_error as MSE, median_absolute_error as MedAE, r2_score as R2\n",
    "from sklearn.model_selection import cross_val_score, cross_validate\n",
    "from sklearn.model_selection import KFold, RepeatedKFold, LeaveOneOut, LeavePOut, ShuffleSplit, StratifiedKFold\n",
    "from sklearn.model_selection import GridSearchCV\n",
    "from sklearn.model_selection import learning_curve, validation_curve"
   ]
  },
  {
   "cell_type": "code",
   "execution_count": 2,
   "metadata": {},
   "outputs": [],
   "source": [
    "data = pd.read_csv(\"train.csv\",sep=\",\",encoding = 'cp1251')"
   ]
  },
  {
   "cell_type": "code",
   "execution_count": 3,
   "metadata": {},
   "outputs": [
    {
     "data": {
      "text/html": [
       "<div>\n",
       "<style scoped>\n",
       "    .dataframe tbody tr th:only-of-type {\n",
       "        vertical-align: middle;\n",
       "    }\n",
       "\n",
       "    .dataframe tbody tr th {\n",
       "        vertical-align: top;\n",
       "    }\n",
       "\n",
       "    .dataframe thead th {\n",
       "        text-align: right;\n",
       "    }\n",
       "</style>\n",
       "<table border=\"1\" class=\"dataframe\">\n",
       "  <thead>\n",
       "    <tr style=\"text-align: right;\">\n",
       "      <th></th>\n",
       "      <th>id</th>\n",
       "      <th>bulk_id</th>\n",
       "      <th>spalen</th>\n",
       "      <th>date1</th>\n",
       "      <th>start_square</th>\n",
       "      <th>value</th>\n",
       "      <th>price</th>\n",
       "      <th>mean_sq</th>\n",
       "      <th>mean_fl</th>\n",
       "      <th>plan_s</th>\n",
       "      <th>...</th>\n",
       "      <th>До промки(км)</th>\n",
       "      <th>До парка(км)</th>\n",
       "      <th>До парка пешком(км)</th>\n",
       "      <th>Станций метро от кольца</th>\n",
       "      <th>Площадь двора</th>\n",
       "      <th>Курс</th>\n",
       "      <th>Cтавка по ипотеке</th>\n",
       "      <th>Вклады до 1 года</th>\n",
       "      <th>Вклады от 1 года до 3 лет</th>\n",
       "      <th>Вклады свыше 3 лет</th>\n",
       "    </tr>\n",
       "  </thead>\n",
       "  <tbody>\n",
       "    <tr>\n",
       "      <th>0</th>\n",
       "      <td>0</td>\n",
       "      <td>FF3814A9-9F7D-E711-8530-00505688958B</td>\n",
       "      <td>1</td>\n",
       "      <td>2017-10-01</td>\n",
       "      <td>13109.9</td>\n",
       "      <td>1124.5</td>\n",
       "      <td>135633.913043</td>\n",
       "      <td>38.00</td>\n",
       "      <td>8</td>\n",
       "      <td>147</td>\n",
       "      <td>...</td>\n",
       "      <td>0.28</td>\n",
       "      <td>0.58</td>\n",
       "      <td>0.93</td>\n",
       "      <td>8</td>\n",
       "      <td>7640</td>\n",
       "      <td>57.698052</td>\n",
       "      <td>10.04</td>\n",
       "      <td>5.74</td>\n",
       "      <td>5.94</td>\n",
       "      <td>6.03</td>\n",
       "    </tr>\n",
       "    <tr>\n",
       "      <th>1</th>\n",
       "      <td>1</td>\n",
       "      <td>FF3814A9-9F7D-E711-8530-00505688958B</td>\n",
       "      <td>2</td>\n",
       "      <td>2017-10-01</td>\n",
       "      <td>19898.4</td>\n",
       "      <td>1412.3</td>\n",
       "      <td>128492.419825</td>\n",
       "      <td>58.01</td>\n",
       "      <td>9</td>\n",
       "      <td>139</td>\n",
       "      <td>...</td>\n",
       "      <td>0.28</td>\n",
       "      <td>0.58</td>\n",
       "      <td>0.93</td>\n",
       "      <td>8</td>\n",
       "      <td>7640</td>\n",
       "      <td>57.698052</td>\n",
       "      <td>10.04</td>\n",
       "      <td>5.74</td>\n",
       "      <td>5.94</td>\n",
       "      <td>6.03</td>\n",
       "    </tr>\n",
       "    <tr>\n",
       "      <th>2</th>\n",
       "      <td>2</td>\n",
       "      <td>FF3814A9-9F7D-E711-8530-00505688958B</td>\n",
       "      <td>0</td>\n",
       "      <td>2017-10-01</td>\n",
       "      <td>2100.0</td>\n",
       "      <td>345.0</td>\n",
       "      <td>158237.634409</td>\n",
       "      <td>22.58</td>\n",
       "      <td>10</td>\n",
       "      <td>78</td>\n",
       "      <td>...</td>\n",
       "      <td>0.28</td>\n",
       "      <td>0.58</td>\n",
       "      <td>0.93</td>\n",
       "      <td>8</td>\n",
       "      <td>7640</td>\n",
       "      <td>57.698052</td>\n",
       "      <td>10.04</td>\n",
       "      <td>5.74</td>\n",
       "      <td>5.94</td>\n",
       "      <td>6.03</td>\n",
       "    </tr>\n",
       "    <tr>\n",
       "      <th>3</th>\n",
       "      <td>3</td>\n",
       "      <td>FF3814A9-9F7D-E711-8530-00505688958B</td>\n",
       "      <td>3</td>\n",
       "      <td>2017-10-01</td>\n",
       "      <td>9614.9</td>\n",
       "      <td>769.4</td>\n",
       "      <td>123250.000000</td>\n",
       "      <td>78.81</td>\n",
       "      <td>8</td>\n",
       "      <td>50</td>\n",
       "      <td>...</td>\n",
       "      <td>0.28</td>\n",
       "      <td>0.58</td>\n",
       "      <td>0.93</td>\n",
       "      <td>8</td>\n",
       "      <td>7640</td>\n",
       "      <td>57.698052</td>\n",
       "      <td>10.04</td>\n",
       "      <td>5.74</td>\n",
       "      <td>5.94</td>\n",
       "      <td>6.03</td>\n",
       "    </tr>\n",
       "    <tr>\n",
       "      <th>4</th>\n",
       "      <td>4</td>\n",
       "      <td>FF3814A9-9F7D-E711-8530-00505688958B</td>\n",
       "      <td>1</td>\n",
       "      <td>2017-11-01</td>\n",
       "      <td>11947.2</td>\n",
       "      <td>526.7</td>\n",
       "      <td>139420.634921</td>\n",
       "      <td>37.93</td>\n",
       "      <td>9</td>\n",
       "      <td>140</td>\n",
       "      <td>...</td>\n",
       "      <td>0.28</td>\n",
       "      <td>0.58</td>\n",
       "      <td>0.93</td>\n",
       "      <td>8</td>\n",
       "      <td>7640</td>\n",
       "      <td>58.926552</td>\n",
       "      <td>9.87</td>\n",
       "      <td>5.17</td>\n",
       "      <td>7.07</td>\n",
       "      <td>6.20</td>\n",
       "    </tr>\n",
       "  </tbody>\n",
       "</table>\n",
       "<p>5 rows × 56 columns</p>\n",
       "</div>"
      ],
      "text/plain": [
       "   id                               bulk_id  spalen       date1  start_square  \\\n",
       "0   0  FF3814A9-9F7D-E711-8530-00505688958B       1  2017-10-01       13109.9   \n",
       "1   1  FF3814A9-9F7D-E711-8530-00505688958B       2  2017-10-01       19898.4   \n",
       "2   2  FF3814A9-9F7D-E711-8530-00505688958B       0  2017-10-01        2100.0   \n",
       "3   3  FF3814A9-9F7D-E711-8530-00505688958B       3  2017-10-01        9614.9   \n",
       "4   4  FF3814A9-9F7D-E711-8530-00505688958B       1  2017-11-01       11947.2   \n",
       "\n",
       "    value          price  mean_sq  mean_fl  plan_s  ...  До промки(км)  \\\n",
       "0  1124.5  135633.913043    38.00        8     147  ...           0.28   \n",
       "1  1412.3  128492.419825    58.01        9     139  ...           0.28   \n",
       "2   345.0  158237.634409    22.58       10      78  ...           0.28   \n",
       "3   769.4  123250.000000    78.81        8      50  ...           0.28   \n",
       "4   526.7  139420.634921    37.93        9     140  ...           0.28   \n",
       "\n",
       "   До парка(км)  До парка пешком(км)  Станций метро от кольца  Площадь двора  \\\n",
       "0          0.58                 0.93                        8           7640   \n",
       "1          0.58                 0.93                        8           7640   \n",
       "2          0.58                 0.93                        8           7640   \n",
       "3          0.58                 0.93                        8           7640   \n",
       "4          0.58                 0.93                        8           7640   \n",
       "\n",
       "        Курс  Cтавка по ипотеке Вклады до 1 года  Вклады от 1 года до 3 лет  \\\n",
       "0  57.698052              10.04             5.74                       5.94   \n",
       "1  57.698052              10.04             5.74                       5.94   \n",
       "2  57.698052              10.04             5.74                       5.94   \n",
       "3  57.698052              10.04             5.74                       5.94   \n",
       "4  58.926552               9.87             5.17                       7.07   \n",
       "\n",
       "  Вклады свыше 3 лет  \n",
       "0               6.03  \n",
       "1               6.03  \n",
       "2               6.03  \n",
       "3               6.03  \n",
       "4               6.20  \n",
       "\n",
       "[5 rows x 56 columns]"
      ]
     },
     "execution_count": 3,
     "metadata": {},
     "output_type": "execute_result"
    }
   ],
   "source": [
    "data.head()"
   ]
  },
  {
   "cell_type": "code",
   "execution_count": 4,
   "metadata": {},
   "outputs": [
    {
     "data": {
      "text/plain": [
       "(8726, 56)"
      ]
     },
     "execution_count": 4,
     "metadata": {},
     "output_type": "execute_result"
    }
   ],
   "source": [
    "data.shape"
   ]
  },
  {
   "cell_type": "markdown",
   "metadata": {},
   "source": [
    "###  Проверим наличие пропущенных значениений"
   ]
  },
  {
   "cell_type": "code",
   "execution_count": 5,
   "metadata": {},
   "outputs": [
    {
     "name": "stdout",
     "output_type": "stream",
     "text": [
      "0\n"
     ]
    }
   ],
   "source": [
    "nd = data.columns[data.isnull().any()]\n",
    "\n",
    "print(len(nd))\n"
   ]
  },
  {
   "cell_type": "markdown",
   "metadata": {},
   "source": [
    "Как мы видим пропущенных значений нет \n",
    "\n",
    "### Проверим наличие категориальных значений"
   ]
  },
  {
   "cell_type": "code",
   "execution_count": 6,
   "metadata": {},
   "outputs": [
    {
     "name": "stdout",
     "output_type": "stream",
     "text": [
      "12\n"
     ]
    }
   ],
   "source": [
    "cats = [col for col in data.columns if data[col].dtype==\"object\"]\n",
    "print(len(cats))"
   ]
  },
  {
   "cell_type": "markdown",
   "metadata": {},
   "source": [
    "Имеем 12 столбцов с категориальными признаками\n",
    "\n",
    "### Заменим категориальные признаки числовыми используя Label encoding"
   ]
  },
  {
   "cell_type": "code",
   "execution_count": 7,
   "metadata": {},
   "outputs": [],
   "source": [
    "le = LabelEncoder()\n",
    "for col in cats:\n",
    "    data[col]=le.fit_transform(data[col])"
   ]
  },
  {
   "cell_type": "code",
   "execution_count": 8,
   "metadata": {},
   "outputs": [
    {
     "name": "stdout",
     "output_type": "stream",
     "text": [
      "0\n"
     ]
    }
   ],
   "source": [
    "newcats = [col for col in data.columns if data[col].dtype==\"object\"]\n",
    "print(len(newcats))"
   ]
  },
  {
   "cell_type": "code",
   "execution_count": 9,
   "metadata": {},
   "outputs": [],
   "source": [
    "y=data[\"value\"]"
   ]
  },
  {
   "cell_type": "code",
   "execution_count": 10,
   "metadata": {},
   "outputs": [
    {
     "data": {
      "text/plain": [
       "array([1124.5 , 1412.3 ,  345.  , ...,   86.71,  177.86,  331.76])"
      ]
     },
     "execution_count": 10,
     "metadata": {},
     "output_type": "execute_result"
    }
   ],
   "source": [
    "y.unique()"
   ]
  },
  {
   "cell_type": "code",
   "execution_count": 11,
   "metadata": {},
   "outputs": [],
   "source": [
    "x=data.drop(\"value\",axis=1)"
   ]
  },
  {
   "cell_type": "code",
   "execution_count": 12,
   "metadata": {},
   "outputs": [],
   "source": [
    "X_train, X_test, y_train, y_test = train_test_split(x, y, test_size=0.2, random_state=42)"
   ]
  },
  {
   "cell_type": "code",
   "execution_count": 13,
   "metadata": {},
   "outputs": [
    {
     "name": "stdout",
     "output_type": "stream",
     "text": [
      "(6980, 55) (6980,)\n",
      "(1746, 55) (1746,)\n"
     ]
    }
   ],
   "source": [
    "# Размер тренировочной выборки\n",
    "print(X_train.shape, y_train.shape)\n",
    "# Размер тестовой выборки\n",
    "print(X_test.shape, y_test.shape)"
   ]
  },
  {
   "cell_type": "markdown",
   "metadata": {},
   "source": [
    "### Обучим модель используя метод k близжайших значений"
   ]
  },
  {
   "cell_type": "code",
   "execution_count": 14,
   "metadata": {},
   "outputs": [
    {
     "data": {
      "text/plain": [
       "KNeighborsRegressor(algorithm='auto', leaf_size=30, metric='minkowski',\n",
       "          metric_params=None, n_jobs=None, n_neighbors=5, p=2,\n",
       "          weights='uniform')"
      ]
     },
     "execution_count": 14,
     "metadata": {},
     "output_type": "execute_result"
    }
   ],
   "source": [
    "KNN = KNeighborsRegressor()\n",
    "KNN.fit(X_train,y_train)"
   ]
  },
  {
   "cell_type": "code",
   "execution_count": 15,
   "metadata": {},
   "outputs": [],
   "source": [
    "a= KNN.predict(X_test)"
   ]
  },
  {
   "cell_type": "markdown",
   "metadata": {},
   "source": [
    "### Проверим модель при помощи метрик R2, MSE, MedAE"
   ]
  },
  {
   "cell_type": "code",
   "execution_count": 16,
   "metadata": {},
   "outputs": [
    {
     "data": {
      "text/plain": [
       "0.35347216945585735"
      ]
     },
     "execution_count": 16,
     "metadata": {},
     "output_type": "execute_result"
    }
   ],
   "source": [
    "R2(y_test, a)"
   ]
  },
  {
   "cell_type": "code",
   "execution_count": 17,
   "metadata": {},
   "outputs": [
    {
     "data": {
      "text/plain": [
       "98227.06495687284"
      ]
     },
     "execution_count": 17,
     "metadata": {},
     "output_type": "execute_result"
    }
   ],
   "source": [
    "MSE(y_test, a)"
   ]
  },
  {
   "cell_type": "code",
   "execution_count": 18,
   "metadata": {},
   "outputs": [
    {
     "data": {
      "text/plain": [
       "87.82000000000001"
      ]
     },
     "execution_count": 18,
     "metadata": {},
     "output_type": "execute_result"
    }
   ],
   "source": [
    "MedAE(y_test, a)"
   ]
  },
  {
   "cell_type": "markdown",
   "metadata": {},
   "source": [
    "### Обучим модель при помощи кросс валидации тремя стратегиями и подберем гиперпараметры"
   ]
  },
  {
   "cell_type": "code",
   "execution_count": 69,
   "metadata": {},
   "outputs": [],
   "source": [
    "ll = [1,2,3,4,5,10,25,40,50,100,250,500,1000]"
   ]
  },
  {
   "cell_type": "markdown",
   "metadata": {},
   "source": [
    "#### 1. KFold"
   ]
  },
  {
   "cell_type": "code",
   "execution_count": 19,
   "metadata": {},
   "outputs": [
    {
     "name": "stdout",
     "output_type": "stream",
     "text": [
      "-0.5471605374343553\n"
     ]
    }
   ],
   "source": [
    "scores = cross_val_score(KNeighborsRegressor(n_neighbors=5),x, y,cv=KFold(n_splits=5), scoring = 'r2')\n",
    "print(np.mean(scores))"
   ]
  },
  {
   "cell_type": "code",
   "execution_count": 73,
   "metadata": {},
   "outputs": [
    {
     "name": "stdout",
     "output_type": "stream",
     "text": [
      "196526.4650782841\n"
     ]
    }
   ],
   "source": [
    "scores = -1*cross_val_score(KNeighborsRegressor(n_neighbors=5),x, y,cv=KFold(n_splits=5), scoring = 'neg_mean_squared_error')\n",
    "print(np.mean(scores))"
   ]
  },
  {
   "cell_type": "code",
   "execution_count": 71,
   "metadata": {},
   "outputs": [
    {
     "name": "stdout",
     "output_type": "stream",
     "text": [
      "163.50959999999998\n"
     ]
    }
   ],
   "source": [
    "scores = -1*cross_val_score(KNeighborsRegressor(n_neighbors=5),x, y,cv=KFold(n_splits=5), scoring = 'neg_median_absolute_error')\n",
    "print(np.mean(scores))"
   ]
  },
  {
   "cell_type": "code",
   "execution_count": 103,
   "metadata": {},
   "outputs": [],
   "source": [
    "random_search_kFold = GridSearchCV(estimator= KNeighborsRegressor(),\n",
    "                             param_grid= {'n_neighbors': ll},\n",
    "                             scoring= 'r2', \n",
    "                             cv= KFold(n_splits=5))"
   ]
  },
  {
   "cell_type": "code",
   "execution_count": 104,
   "metadata": {},
   "outputs": [
    {
     "data": {
      "text/plain": [
       "GridSearchCV(cv=KFold(n_splits=5, random_state=None, shuffle=False),\n",
       "       error_score='raise-deprecating',\n",
       "       estimator=KNeighborsRegressor(algorithm='auto', leaf_size=30, metric='minkowski',\n",
       "          metric_params=None, n_jobs=None, n_neighbors=5, p=2,\n",
       "          weights='uniform'),\n",
       "       fit_params=None, iid='warn', n_jobs=None,\n",
       "       param_grid={'n_neighbors': [1, 2, 3, 4, 5, 10, 25, 40, 50, 100, 250, 500, 1000]},\n",
       "       pre_dispatch='2*n_jobs', refit=True, return_train_score='warn',\n",
       "       scoring='r2', verbose=0)"
      ]
     },
     "execution_count": 104,
     "metadata": {},
     "output_type": "execute_result"
    }
   ],
   "source": [
    "random_search_kFold.fit(x,y)"
   ]
  },
  {
   "cell_type": "code",
   "execution_count": 107,
   "metadata": {},
   "outputs": [
    {
     "data": {
      "text/plain": [
       "{'n_neighbors': 1000}"
      ]
     },
     "execution_count": 107,
     "metadata": {},
     "output_type": "execute_result"
    }
   ],
   "source": [
    "random_search_kFold.best_params_"
   ]
  },
  {
   "cell_type": "code",
   "execution_count": 109,
   "metadata": {},
   "outputs": [],
   "source": [
    "random_search_kFold = GridSearchCV(estimator= KNeighborsRegressor(),\n",
    "                             param_grid= {'n_neighbors': ll},\n",
    "                             scoring= 'neg_mean_squared_error', \n",
    "                             cv= KFold(n_splits=5))"
   ]
  },
  {
   "cell_type": "code",
   "execution_count": 110,
   "metadata": {},
   "outputs": [
    {
     "data": {
      "text/plain": [
       "GridSearchCV(cv=KFold(n_splits=5, random_state=None, shuffle=False),\n",
       "       error_score='raise-deprecating',\n",
       "       estimator=KNeighborsRegressor(algorithm='auto', leaf_size=30, metric='minkowski',\n",
       "          metric_params=None, n_jobs=None, n_neighbors=5, p=2,\n",
       "          weights='uniform'),\n",
       "       fit_params=None, iid='warn', n_jobs=None,\n",
       "       param_grid={'n_neighbors': [1, 2, 3, 4, 5, 10, 25, 40, 50, 100, 250, 500, 1000]},\n",
       "       pre_dispatch='2*n_jobs', refit=True, return_train_score='warn',\n",
       "       scoring='neg_mean_squared_error', verbose=0)"
      ]
     },
     "execution_count": 110,
     "metadata": {},
     "output_type": "execute_result"
    }
   ],
   "source": [
    "random_search_kFold.fit(x,y)"
   ]
  },
  {
   "cell_type": "code",
   "execution_count": 111,
   "metadata": {},
   "outputs": [
    {
     "data": {
      "text/plain": [
       "{'n_neighbors': 1000}"
      ]
     },
     "execution_count": 111,
     "metadata": {},
     "output_type": "execute_result"
    }
   ],
   "source": [
    "random_search_kFold.best_params_"
   ]
  },
  {
   "cell_type": "code",
   "execution_count": 113,
   "metadata": {},
   "outputs": [],
   "source": [
    "random_search_kFold = GridSearchCV(estimator= KNeighborsRegressor(),\n",
    "                             param_grid= {'n_neighbors': ll},\n",
    "                             scoring= 'neg_median_absolute_error', \n",
    "                             cv= KFold(n_splits=5))"
   ]
  },
  {
   "cell_type": "code",
   "execution_count": 114,
   "metadata": {},
   "outputs": [
    {
     "data": {
      "text/plain": [
       "GridSearchCV(cv=KFold(n_splits=5, random_state=None, shuffle=False),\n",
       "       error_score='raise-deprecating',\n",
       "       estimator=KNeighborsRegressor(algorithm='auto', leaf_size=30, metric='minkowski',\n",
       "          metric_params=None, n_jobs=None, n_neighbors=5, p=2,\n",
       "          weights='uniform'),\n",
       "       fit_params=None, iid='warn', n_jobs=None,\n",
       "       param_grid={'n_neighbors': [1, 2, 3, 4, 5, 10, 25, 40, 50, 100, 250, 500, 1000]},\n",
       "       pre_dispatch='2*n_jobs', refit=True, return_train_score='warn',\n",
       "       scoring='neg_median_absolute_error', verbose=0)"
      ]
     },
     "execution_count": 114,
     "metadata": {},
     "output_type": "execute_result"
    }
   ],
   "source": [
    "random_search_kFold.fit(x,y)"
   ]
  },
  {
   "cell_type": "code",
   "execution_count": 115,
   "metadata": {},
   "outputs": [
    {
     "data": {
      "text/plain": [
       "{'n_neighbors': 10}"
      ]
     },
     "execution_count": 115,
     "metadata": {},
     "output_type": "execute_result"
    }
   ],
   "source": [
    "random_search_kFold"
   ]
  },
  {
   "cell_type": "code",
   "execution_count": 130,
   "metadata": {},
   "outputs": [
    {
     "name": "stdout",
     "output_type": "stream",
     "text": [
      "-0.06260425742921458\n"
     ]
    }
   ],
   "source": [
    "scores = cross_val_score(KNeighborsRegressor(n_neighbors=1000),x, y,\n",
    "                         cv=KFold(n_splits=5), scoring = 'r2')\n",
    "print(np.mean(scores))"
   ]
  },
  {
   "cell_type": "code",
   "execution_count": 131,
   "metadata": {},
   "outputs": [
    {
     "name": "stdout",
     "output_type": "stream",
     "text": [
      "136522.2623284804\n"
     ]
    }
   ],
   "source": [
    "scores = -1*cross_val_score(KNeighborsRegressor(n_neighbors=1000),x, y,\n",
    "                            cv=KFold(n_splits=5), scoring = 'neg_mean_squared_error')\n",
    "print(np.mean(scores))"
   ]
  },
  {
   "cell_type": "code",
   "execution_count": 137,
   "metadata": {},
   "outputs": [
    {
     "name": "stdout",
     "output_type": "stream",
     "text": [
      "163.45470000000003\n"
     ]
    }
   ],
   "source": [
    "scores = -1*cross_val_score(KNeighborsRegressor(n_neighbors=10),x, y,\n",
    "                            cv=KFold(n_splits=5), scoring = 'neg_median_absolute_error')\n",
    "print(np.mean(scores))"
   ]
  },
  {
   "cell_type": "markdown",
   "metadata": {},
   "source": [
    "#### 2. ShuffleSplit"
   ]
  },
  {
   "cell_type": "code",
   "execution_count": 20,
   "metadata": {},
   "outputs": [
    {
     "name": "stdout",
     "output_type": "stream",
     "text": [
      "0.39628696314739453\n"
     ]
    }
   ],
   "source": [
    "scores = cross_val_score(KNeighborsRegressor(n_neighbors=5),x, y,\n",
    "                         cv=ShuffleSplit(n_splits=5, test_size=0.25), scoring = 'r2')\n",
    "print(np.mean(scores))"
   ]
  },
  {
   "cell_type": "code",
   "execution_count": 74,
   "metadata": {},
   "outputs": [
    {
     "name": "stdout",
     "output_type": "stream",
     "text": [
      "82540.63936477728\n"
     ]
    }
   ],
   "source": [
    "scores = -1 * cross_val_score(KNeighborsRegressor(n_neighbors=5),x, y,\n",
    "                              cv=ShuffleSplit(n_splits=5, test_size=0.25), \n",
    "                              scoring = 'neg_mean_squared_error')\n",
    "print(np.mean(scores))"
   ]
  },
  {
   "cell_type": "code",
   "execution_count": 75,
   "metadata": {},
   "outputs": [
    {
     "name": "stdout",
     "output_type": "stream",
     "text": [
      "88.6202\n"
     ]
    }
   ],
   "source": [
    "scores = -1* cross_val_score(KNeighborsRegressor(n_neighbors=5),x, y,\n",
    "                             cv=ShuffleSplit(n_splits=5, test_size=0.25), \n",
    "                             scoring = 'neg_median_absolute_error')\n",
    "print(np.mean(scores))"
   ]
  },
  {
   "cell_type": "code",
   "execution_count": 116,
   "metadata": {},
   "outputs": [],
   "source": [
    "random_search_Shuffled = GridSearchCV(estimator= KNeighborsRegressor(),\n",
    "                             param_grid= {'n_neighbors': ll},\n",
    "                             scoring= 'r2', \n",
    "                             cv= ShuffleSplit(n_splits=5, test_size=0.25))"
   ]
  },
  {
   "cell_type": "code",
   "execution_count": 117,
   "metadata": {},
   "outputs": [
    {
     "data": {
      "text/plain": [
       "GridSearchCV(cv=ShuffleSplit(n_splits=5, random_state=None, test_size=0.25, train_size=None),\n",
       "       error_score='raise-deprecating',\n",
       "       estimator=KNeighborsRegressor(algorithm='auto', leaf_size=30, metric='minkowski',\n",
       "          metric_params=None, n_jobs=None, n_neighbors=5, p=2,\n",
       "          weights='uniform'),\n",
       "       fit_params=None, iid='warn', n_jobs=None,\n",
       "       param_grid={'n_neighbors': [1, 2, 3, 4, 5, 10, 25, 40, 50, 100, 250, 500, 1000]},\n",
       "       pre_dispatch='2*n_jobs', refit=True, return_train_score='warn',\n",
       "       scoring='r2', verbose=0)"
      ]
     },
     "execution_count": 117,
     "metadata": {},
     "output_type": "execute_result"
    }
   ],
   "source": [
    "random_search_Shuffled.fit(x,y)"
   ]
  },
  {
   "cell_type": "code",
   "execution_count": 119,
   "metadata": {},
   "outputs": [
    {
     "data": {
      "text/plain": [
       "{'n_neighbors': 3}"
      ]
     },
     "execution_count": 119,
     "metadata": {},
     "output_type": "execute_result"
    }
   ],
   "source": [
    "random_search_Shuffled.best_params_"
   ]
  },
  {
   "cell_type": "code",
   "execution_count": 121,
   "metadata": {},
   "outputs": [],
   "source": [
    "random_search_Shuffled = GridSearchCV(estimator= KNeighborsRegressor(),\n",
    "                             param_grid= {'n_neighbors': ll},\n",
    "                             scoring= 'neg_mean_squared_error', \n",
    "                             cv= ShuffleSplit(n_splits=5, test_size=0.25))"
   ]
  },
  {
   "cell_type": "code",
   "execution_count": 122,
   "metadata": {
    "scrolled": false
   },
   "outputs": [
    {
     "data": {
      "text/plain": [
       "GridSearchCV(cv=ShuffleSplit(n_splits=5, random_state=None, test_size=0.25, train_size=None),\n",
       "       error_score='raise-deprecating',\n",
       "       estimator=KNeighborsRegressor(algorithm='auto', leaf_size=30, metric='minkowski',\n",
       "          metric_params=None, n_jobs=None, n_neighbors=5, p=2,\n",
       "          weights='uniform'),\n",
       "       fit_params=None, iid='warn', n_jobs=None,\n",
       "       param_grid={'n_neighbors': [1, 2, 3, 4, 5, 10, 25, 40, 50, 100, 250, 500, 1000]},\n",
       "       pre_dispatch='2*n_jobs', refit=True, return_train_score='warn',\n",
       "       scoring='neg_mean_squared_error', verbose=0)"
      ]
     },
     "execution_count": 122,
     "metadata": {},
     "output_type": "execute_result"
    }
   ],
   "source": [
    "random_search_Shuffled.fit(x,y)"
   ]
  },
  {
   "cell_type": "code",
   "execution_count": 123,
   "metadata": {},
   "outputs": [
    {
     "data": {
      "text/plain": [
       "{'n_neighbors': 3}"
      ]
     },
     "execution_count": 123,
     "metadata": {},
     "output_type": "execute_result"
    }
   ],
   "source": [
    "random_search_Shuffled.best_params_"
   ]
  },
  {
   "cell_type": "code",
   "execution_count": 124,
   "metadata": {},
   "outputs": [],
   "source": [
    "random_search_Shuffled = GridSearchCV(estimator= KNeighborsRegressor(),\n",
    "                             param_grid= {'n_neighbors': ll},\n",
    "                             scoring= 'neg_median_absolute_error', \n",
    "                             cv= ShuffleSplit(n_splits=5, test_size=0.25))"
   ]
  },
  {
   "cell_type": "code",
   "execution_count": 125,
   "metadata": {},
   "outputs": [
    {
     "data": {
      "text/plain": [
       "GridSearchCV(cv=ShuffleSplit(n_splits=5, random_state=None, test_size=0.25, train_size=None),\n",
       "       error_score='raise-deprecating',\n",
       "       estimator=KNeighborsRegressor(algorithm='auto', leaf_size=30, metric='minkowski',\n",
       "          metric_params=None, n_jobs=None, n_neighbors=5, p=2,\n",
       "          weights='uniform'),\n",
       "       fit_params=None, iid='warn', n_jobs=None,\n",
       "       param_grid={'n_neighbors': [1, 2, 3, 4, 5, 10, 25, 40, 50, 100, 250, 500, 1000]},\n",
       "       pre_dispatch='2*n_jobs', refit=True, return_train_score='warn',\n",
       "       scoring='neg_median_absolute_error', verbose=0)"
      ]
     },
     "execution_count": 125,
     "metadata": {},
     "output_type": "execute_result"
    }
   ],
   "source": [
    "random_search_Shuffled.fit(x,y)"
   ]
  },
  {
   "cell_type": "code",
   "execution_count": 126,
   "metadata": {},
   "outputs": [
    {
     "data": {
      "text/plain": [
       "{'n_neighbors': 3}"
      ]
     },
     "execution_count": 126,
     "metadata": {},
     "output_type": "execute_result"
    }
   ],
   "source": [
    "random_search_Shuffled.best_params_"
   ]
  },
  {
   "cell_type": "code",
   "execution_count": 138,
   "metadata": {},
   "outputs": [
    {
     "name": "stdout",
     "output_type": "stream",
     "text": [
      "0.39840144338554095\n"
     ]
    }
   ],
   "source": [
    "scores = cross_val_score(KNeighborsRegressor(n_neighbors=3),x, y,\n",
    "                         cv=ShuffleSplit(n_splits=5, test_size=0.25), \n",
    "                         scoring = 'r2')\n",
    "print(np.mean(scores))"
   ]
  },
  {
   "cell_type": "code",
   "execution_count": 139,
   "metadata": {},
   "outputs": [
    {
     "name": "stdout",
     "output_type": "stream",
     "text": [
      "76819.15214048987\n"
     ]
    }
   ],
   "source": [
    "scores = -1 * cross_val_score(KNeighborsRegressor(n_neighbors=3),x, y,\n",
    "                              cv=ShuffleSplit(n_splits=5, test_size=0.25), \n",
    "                              scoring = 'neg_mean_squared_error')\n",
    "print(np.mean(scores))"
   ]
  },
  {
   "cell_type": "code",
   "execution_count": 140,
   "metadata": {},
   "outputs": [
    {
     "name": "stdout",
     "output_type": "stream",
     "text": [
      "81.00933333333333\n"
     ]
    }
   ],
   "source": [
    "scores = -1* cross_val_score(KNeighborsRegressor(n_neighbors=3),x, y,\n",
    "                             cv=ShuffleSplit(n_splits=5, test_size=0.25), \n",
    "                             scoring = 'neg_median_absolute_error')\n",
    "print(np.mean(scores))"
   ]
  },
  {
   "cell_type": "markdown",
   "metadata": {},
   "source": [
    "#### 3. RepeatedKFold"
   ]
  },
  {
   "cell_type": "code",
   "execution_count": 21,
   "metadata": {},
   "outputs": [
    {
     "name": "stdout",
     "output_type": "stream",
     "text": [
      "0.38647630284365564\n"
     ]
    }
   ],
   "source": [
    "scores = cross_val_score(KNeighborsRegressor(n_neighbors=5),x, y,\n",
    "                         cv=RepeatedKFold(n_splits=5, n_repeats=5), \n",
    "                         scoring = 'r2')\n",
    "print(np.mean(scores))"
   ]
  },
  {
   "cell_type": "code",
   "execution_count": 76,
   "metadata": {},
   "outputs": [
    {
     "name": "stdout",
     "output_type": "stream",
     "text": [
      "81875.4771649273\n"
     ]
    }
   ],
   "source": [
    "scores = -1 * cross_val_score(KNeighborsRegressor(n_neighbors=5),x, y,\n",
    "                              cv=RepeatedKFold(n_splits=5, n_repeats=5), \n",
    "                              scoring = 'neg_mean_squared_error')\n",
    "print(np.mean(scores))"
   ]
  },
  {
   "cell_type": "code",
   "execution_count": 77,
   "metadata": {},
   "outputs": [
    {
     "name": "stdout",
     "output_type": "stream",
     "text": [
      "88.27748\n"
     ]
    }
   ],
   "source": [
    "scores = -1* cross_val_score(KNeighborsRegressor(n_neighbors=5),x, \n",
    "                             y,cv=RepeatedKFold(n_splits=5, n_repeats=5), \n",
    "                             scoring = 'neg_median_absolute_error')\n",
    "print(np.mean(scores))"
   ]
  },
  {
   "cell_type": "code",
   "execution_count": 141,
   "metadata": {},
   "outputs": [],
   "source": [
    "random_search_n_kFold = GridSearchCV(estimator= KNeighborsRegressor(),\n",
    "                             param_grid= {'n_neighbors': ll},\n",
    "                             scoring= 'r2', \n",
    "                             cv= RepeatedKFold(n_splits=5, n_repeats=5))"
   ]
  },
  {
   "cell_type": "code",
   "execution_count": 142,
   "metadata": {},
   "outputs": [
    {
     "data": {
      "text/plain": [
       "GridSearchCV(cv=<sklearn.model_selection._split.RepeatedKFold object at 0x1256a3c88>,\n",
       "       error_score='raise-deprecating',\n",
       "       estimator=KNeighborsRegressor(algorithm='auto', leaf_size=30, metric='minkowski',\n",
       "          metric_params=None, n_jobs=None, n_neighbors=5, p=2,\n",
       "          weights='uniform'),\n",
       "       fit_params=None, iid='warn', n_jobs=None,\n",
       "       param_grid={'n_neighbors': [1, 2, 3, 4, 5, 10, 25, 40, 50, 100, 250, 500, 1000]},\n",
       "       pre_dispatch='2*n_jobs', refit=True, return_train_score='warn',\n",
       "       scoring='r2', verbose=0)"
      ]
     },
     "execution_count": 142,
     "metadata": {},
     "output_type": "execute_result"
    }
   ],
   "source": [
    "random_search_n_kFold.fit(x, y)"
   ]
  },
  {
   "cell_type": "code",
   "execution_count": 143,
   "metadata": {},
   "outputs": [
    {
     "data": {
      "text/plain": [
       "{'n_neighbors': 3}"
      ]
     },
     "execution_count": 143,
     "metadata": {},
     "output_type": "execute_result"
    }
   ],
   "source": [
    "random_search_n_kFold.best_params_"
   ]
  },
  {
   "cell_type": "code",
   "execution_count": 144,
   "metadata": {},
   "outputs": [],
   "source": [
    "random_search_n_kFold = GridSearchCV(estimator= KNeighborsRegressor(),\n",
    "                             param_grid= {'n_neighbors': ll},\n",
    "                             scoring= 'neg_mean_squared_error', \n",
    "                             cv= RepeatedKFold(n_splits=5, n_repeats=5))"
   ]
  },
  {
   "cell_type": "code",
   "execution_count": 145,
   "metadata": {},
   "outputs": [
    {
     "data": {
      "text/plain": [
       "GridSearchCV(cv=<sklearn.model_selection._split.RepeatedKFold object at 0x1256aa908>,\n",
       "       error_score='raise-deprecating',\n",
       "       estimator=KNeighborsRegressor(algorithm='auto', leaf_size=30, metric='minkowski',\n",
       "          metric_params=None, n_jobs=None, n_neighbors=5, p=2,\n",
       "          weights='uniform'),\n",
       "       fit_params=None, iid='warn', n_jobs=None,\n",
       "       param_grid={'n_neighbors': [1, 2, 3, 4, 5, 10, 25, 40, 50, 100, 250, 500, 1000]},\n",
       "       pre_dispatch='2*n_jobs', refit=True, return_train_score='warn',\n",
       "       scoring='neg_mean_squared_error', verbose=0)"
      ]
     },
     "execution_count": 145,
     "metadata": {},
     "output_type": "execute_result"
    }
   ],
   "source": [
    "random_search_n_kFold.fit(x, y)"
   ]
  },
  {
   "cell_type": "code",
   "execution_count": 146,
   "metadata": {},
   "outputs": [
    {
     "data": {
      "text/plain": [
       "{'n_neighbors': 3}"
      ]
     },
     "execution_count": 146,
     "metadata": {},
     "output_type": "execute_result"
    }
   ],
   "source": [
    "random_search_n_kFold.best_params_"
   ]
  },
  {
   "cell_type": "code",
   "execution_count": 147,
   "metadata": {},
   "outputs": [],
   "source": [
    "random_search_n_kFold = GridSearchCV(estimator= KNeighborsRegressor(),\n",
    "                             param_grid= {'n_neighbors': ll},\n",
    "                             scoring= 'neg_median_absolute_error', \n",
    "                             cv= RepeatedKFold(n_splits=5, n_repeats=5))"
   ]
  },
  {
   "cell_type": "code",
   "execution_count": 148,
   "metadata": {},
   "outputs": [
    {
     "data": {
      "text/plain": [
       "GridSearchCV(cv=<sklearn.model_selection._split.RepeatedKFold object at 0x1119dd470>,\n",
       "       error_score='raise-deprecating',\n",
       "       estimator=KNeighborsRegressor(algorithm='auto', leaf_size=30, metric='minkowski',\n",
       "          metric_params=None, n_jobs=None, n_neighbors=5, p=2,\n",
       "          weights='uniform'),\n",
       "       fit_params=None, iid='warn', n_jobs=None,\n",
       "       param_grid={'n_neighbors': [1, 2, 3, 4, 5, 10, 25, 40, 50, 100, 250, 500, 1000]},\n",
       "       pre_dispatch='2*n_jobs', refit=True, return_train_score='warn',\n",
       "       scoring='neg_median_absolute_error', verbose=0)"
      ]
     },
     "execution_count": 148,
     "metadata": {},
     "output_type": "execute_result"
    }
   ],
   "source": [
    "random_search_n_kFold.fit(x, y)"
   ]
  },
  {
   "cell_type": "code",
   "execution_count": 149,
   "metadata": {},
   "outputs": [
    {
     "data": {
      "text/plain": [
       "{'n_neighbors': 2}"
      ]
     },
     "execution_count": 149,
     "metadata": {},
     "output_type": "execute_result"
    }
   ],
   "source": [
    "random_search_n_kFold.best_params_"
   ]
  },
  {
   "cell_type": "code",
   "execution_count": 150,
   "metadata": {},
   "outputs": [
    {
     "name": "stdout",
     "output_type": "stream",
     "text": [
      "0.40049027597379394\n"
     ]
    }
   ],
   "source": [
    "scores = cross_val_score(KNeighborsRegressor(n_neighbors=3),x, y,\n",
    "                         cv=RepeatedKFold(n_splits=5, n_repeats=5), \n",
    "                         scoring = 'r2')\n",
    "print(np.mean(scores))"
   ]
  },
  {
   "cell_type": "code",
   "execution_count": 151,
   "metadata": {},
   "outputs": [
    {
     "name": "stdout",
     "output_type": "stream",
     "text": [
      "79892.63383489785\n"
     ]
    }
   ],
   "source": [
    "scores = -1 * cross_val_score(KNeighborsRegressor(n_neighbors=3),x, y,\n",
    "                              cv=RepeatedKFold(n_splits=5, n_repeats=5), \n",
    "                              scoring = 'neg_mean_squared_error')\n",
    "print(np.mean(scores))"
   ]
  },
  {
   "cell_type": "code",
   "execution_count": 152,
   "metadata": {},
   "outputs": [
    {
     "name": "stdout",
     "output_type": "stream",
     "text": [
      "80.9564\n"
     ]
    }
   ],
   "source": [
    "scores = -1* cross_val_score(KNeighborsRegressor(n_neighbors=2),x, y,\n",
    "                             cv=RepeatedKFold(n_splits=5, n_repeats=5), \n",
    "                             scoring = 'neg_median_absolute_error')\n",
    "print(np.mean(scores))"
   ]
  },
  {
   "cell_type": "code",
   "execution_count": 153,
   "metadata": {},
   "outputs": [],
   "source": [
    "def plot_validation_curve(estimator, title, X, y, \n",
    "                          param_name, param_range, cv, \n",
    "                          scoring='r2'):\n",
    "                                                   \n",
    "    train_scores, test_scores = validation_curve(\n",
    "        estimator, X, y, param_name=param_name, param_range=param_range,\n",
    "        cv=cv, scoring=scoring, n_jobs=1)\n",
    "    train_scores_mean = np.mean(train_scores, axis=1)\n",
    "    train_scores_std = np.std(train_scores, axis=1)\n",
    "    test_scores_mean = np.mean(test_scores, axis=1)\n",
    "    test_scores_std = np.std(test_scores, axis=1)\n",
    "\n",
    "    plt.title(title)\n",
    "    plt.xlabel(param_name)\n",
    "    plt.ylabel(\"Score\")\n",
    "    plt.ylim(0.0, 1.1)\n",
    "    lw = 2\n",
    "    plt.plot(param_range, train_scores_mean, label=\"Training score\",\n",
    "                 color=\"darkorange\", lw=lw)\n",
    "    plt.fill_between(param_range, train_scores_mean - train_scores_std,\n",
    "                     train_scores_mean + train_scores_std, alpha=0.2,\n",
    "                     color=\"darkorange\", lw=lw)\n",
    "    plt.plot(param_range, test_scores_mean, label=\"Cross-validation score\",\n",
    "                 color=\"navy\", lw=lw)\n",
    "    plt.fill_between(param_range, test_scores_mean - test_scores_std,\n",
    "                     test_scores_mean + test_scores_std, alpha=0.2,\n",
    "                     color=\"navy\", lw=lw)\n",
    "    plt.legend(loc=\"best\")\n",
    "    return plt"
   ]
  },
  {
   "cell_type": "code",
   "execution_count": 156,
   "metadata": {},
   "outputs": [
    {
     "data": {
      "text/plain": [
       "<module 'matplotlib.pyplot' from '/Users/lina/Documents/ML-Technology/.venv/lib/python3.7/site-packages/matplotlib/pyplot.py'>"
      ]
     },
     "execution_count": 156,
     "metadata": {},
     "output_type": "execute_result"
    },
    {
     "data": {
      "image/png": "[encoded data removed]",
      "text/plain": [
       "<Figure size 432x288 with 1 Axes>"
      ]
     },
     "metadata": {
      "needs_background": "light"
     },
     "output_type": "display_data"
    }
   ],
   "source": [
    "n_range = range(3,33,3)\n",
    "plot_validation_curve(KNeighborsRegressor(), 'knn', \n",
    "                      x, y, \n",
    "                      param_name='n_neighbors', param_range=n_range, \n",
    "                      cv=RepeatedKFold(n_splits=5, n_repeats=5), scoring=\"r2\")"
   ]
  }
 ],
 "metadata": {
  "kernelspec": {
   "display_name": "Python 3",
   "language": "python",
   "name": "python3"
  },
  "language_info": {
   "codemirror_mode": {
    "name": "ipython",
    "version": 3
   },
   "file_extension": ".py",
   "mimetype": "text/x-python",
   "name": "python",
   "nbconvert_exporter": "python",
   "pygments_lexer": "ipython3",
   "version": "3.7.3"
  }
 },
 "nbformat": 4,
 "nbformat_minor": 2
}
