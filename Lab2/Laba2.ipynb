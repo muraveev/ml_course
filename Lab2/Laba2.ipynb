{
 "cells": [
  {
   "cell_type": "markdown",
   "metadata": {},
   "source": [
    "# Разведочный анализ данных с Pandas\n",
    "### Exploratory data analysis with Pandas\n",
    "\n",
    "\n",
    "Уникальные значения всех фич:\n",
    "\n",
    "<b>age:</b> continuous.\n",
    "<br><b>workclass:</b> Private, Self-emp-not-inc, Self-emp-inc, Federal-gov, Local-gov, State-gov, Without-pay, Never-worked.\n",
    "<br><b>fnlwgt:</b> continuous.\n",
    "<br><b>education:</b> Bachelors, Some-college, 11th, HS-grad, Prof-school, Assoc-acdm, Assoc-voc, 9th, 7th-8th, 12th, Masters, 1st-4th, 10th, Doctorate, 5th-6th, Preschool.\n",
    "<br><b>education-num:</b> continuous.\n",
    "<br><b>marital-status:</b> Married-civ-spouse, Divorced, Never-married, Separated, Widowed, Married-spouse-absent, Married-AF-spouse.\n",
    "<br><b>occupation:</b> Tech-support, Craft-repair, Other-service, Sales, Exec-managerial, Prof-specialty, Handlers-cleaners, Machine-op-inspct, Adm-clerical, Farming-fishing, Transport-moving, Priv-house-serv, Protective-serv, Armed-Forces.\n",
    "<br><b>relationship:</b> Wife, Own-child, Husband, Not-in-family, Other-relative, Unmarried.\n",
    "<br><b>race:</b> White, Asian-Pac-Islander, Amer-Indian-Eskimo, Other, Black.\n",
    "<br><b>sex:</b> Female, Male.\n",
    "<br><b>capital-gain:</b> continuous.\n",
    "<br><b>capital-loss:</b> continuous.\n",
    "<br><b>hours-per-week:</b> continuous.\n",
    "<br><b>native-country:</b> United-States, Cambodia, England, Puerto-Rico, Canada, Germany, Outlying-US(Guam-USVI-etc), India, Japan, Greece, South, China, Cuba, Iran, Honduras, Philippines, Italy, Poland, Jamaica, Vietnam, Mexico, Portugal, Ireland, France, Dominican-Republic, Laos, Ecuador, Taiwan, Haiti, Columbia, Hungary, Guatemala, Nicaragua, Scotland, Thailand, Yugoslavia, El-Salvador, Trinadad&Tobago, Peru, Hong, Holand-Netherlands.\n",
    "<br><b>salary:</b>>50K,<=50K"
   ]
  },
  {
   "cell_type": "code",
   "execution_count": 1,
   "metadata": {},
   "outputs": [],
   "source": [
    "import numpy as np\n",
    "import pandas as pd\n",
    "pd.set_option('display.max.columns', 100)\n",
    "\n",
    "%matplotlib inline \n",
    "import matplotlib.pyplot as plt\n",
    "import seaborn as sns\n",
    "\n",
    "import warnings\n",
    "warnings.filterwarnings('ignore')"
   ]
  },
  {
   "cell_type": "code",
   "execution_count": 2,
   "metadata": {},
   "outputs": [
    {
     "data": {
      "text/html": [
       "<div>\n",
       "<style scoped>\n",
       "    .dataframe tbody tr th:only-of-type {\n",
       "        vertical-align: middle;\n",
       "    }\n",
       "\n",
       "    .dataframe tbody tr th {\n",
       "        vertical-align: top;\n",
       "    }\n",
       "\n",
       "    .dataframe thead th {\n",
       "        text-align: right;\n",
       "    }\n",
       "</style>\n",
       "<table border=\"1\" class=\"dataframe\">\n",
       "  <thead>\n",
       "    <tr style=\"text-align: right;\">\n",
       "      <th></th>\n",
       "      <th>age</th>\n",
       "      <th>workclass</th>\n",
       "      <th>fnlwgt</th>\n",
       "      <th>education</th>\n",
       "      <th>education-num</th>\n",
       "      <th>marital-status</th>\n",
       "      <th>occupation</th>\n",
       "      <th>relationship</th>\n",
       "      <th>race</th>\n",
       "      <th>sex</th>\n",
       "      <th>capital-gain</th>\n",
       "      <th>capital-loss</th>\n",
       "      <th>hours-per-week</th>\n",
       "      <th>native-country</th>\n",
       "      <th>salary</th>\n",
       "    </tr>\n",
       "  </thead>\n",
       "  <tbody>\n",
       "    <tr>\n",
       "      <th>0</th>\n",
       "      <td>39</td>\n",
       "      <td>State-gov</td>\n",
       "      <td>77516</td>\n",
       "      <td>Bachelors</td>\n",
       "      <td>13</td>\n",
       "      <td>Never-married</td>\n",
       "      <td>Adm-clerical</td>\n",
       "      <td>Not-in-family</td>\n",
       "      <td>White</td>\n",
       "      <td>Male</td>\n",
       "      <td>2174</td>\n",
       "      <td>0</td>\n",
       "      <td>40</td>\n",
       "      <td>United-States</td>\n",
       "      <td>&lt;=50K</td>\n",
       "    </tr>\n",
       "    <tr>\n",
       "      <th>1</th>\n",
       "      <td>50</td>\n",
       "      <td>Self-emp-not-inc</td>\n",
       "      <td>83311</td>\n",
       "      <td>Bachelors</td>\n",
       "      <td>13</td>\n",
       "      <td>Married-civ-spouse</td>\n",
       "      <td>Exec-managerial</td>\n",
       "      <td>Husband</td>\n",
       "      <td>White</td>\n",
       "      <td>Male</td>\n",
       "      <td>0</td>\n",
       "      <td>0</td>\n",
       "      <td>13</td>\n",
       "      <td>United-States</td>\n",
       "      <td>&lt;=50K</td>\n",
       "    </tr>\n",
       "    <tr>\n",
       "      <th>2</th>\n",
       "      <td>38</td>\n",
       "      <td>Private</td>\n",
       "      <td>215646</td>\n",
       "      <td>HS-grad</td>\n",
       "      <td>9</td>\n",
       "      <td>Divorced</td>\n",
       "      <td>Handlers-cleaners</td>\n",
       "      <td>Not-in-family</td>\n",
       "      <td>White</td>\n",
       "      <td>Male</td>\n",
       "      <td>0</td>\n",
       "      <td>0</td>\n",
       "      <td>40</td>\n",
       "      <td>United-States</td>\n",
       "      <td>&lt;=50K</td>\n",
       "    </tr>\n",
       "    <tr>\n",
       "      <th>3</th>\n",
       "      <td>53</td>\n",
       "      <td>Private</td>\n",
       "      <td>234721</td>\n",
       "      <td>11th</td>\n",
       "      <td>7</td>\n",
       "      <td>Married-civ-spouse</td>\n",
       "      <td>Handlers-cleaners</td>\n",
       "      <td>Husband</td>\n",
       "      <td>Black</td>\n",
       "      <td>Male</td>\n",
       "      <td>0</td>\n",
       "      <td>0</td>\n",
       "      <td>40</td>\n",
       "      <td>United-States</td>\n",
       "      <td>&lt;=50K</td>\n",
       "    </tr>\n",
       "    <tr>\n",
       "      <th>4</th>\n",
       "      <td>28</td>\n",
       "      <td>Private</td>\n",
       "      <td>338409</td>\n",
       "      <td>Bachelors</td>\n",
       "      <td>13</td>\n",
       "      <td>Married-civ-spouse</td>\n",
       "      <td>Prof-specialty</td>\n",
       "      <td>Wife</td>\n",
       "      <td>Black</td>\n",
       "      <td>Female</td>\n",
       "      <td>0</td>\n",
       "      <td>0</td>\n",
       "      <td>40</td>\n",
       "      <td>Cuba</td>\n",
       "      <td>&lt;=50K</td>\n",
       "    </tr>\n",
       "  </tbody>\n",
       "</table>\n",
       "</div>"
      ],
      "text/plain": [
       "   age          workclass  fnlwgt   education  education-num  \\\n",
       "0   39          State-gov   77516   Bachelors             13   \n",
       "1   50   Self-emp-not-inc   83311   Bachelors             13   \n",
       "2   38            Private  215646     HS-grad              9   \n",
       "3   53            Private  234721        11th              7   \n",
       "4   28            Private  338409   Bachelors             13   \n",
       "\n",
       "        marital-status          occupation    relationship    race      sex  \\\n",
       "0        Never-married        Adm-clerical   Not-in-family   White     Male   \n",
       "1   Married-civ-spouse     Exec-managerial         Husband   White     Male   \n",
       "2             Divorced   Handlers-cleaners   Not-in-family   White     Male   \n",
       "3   Married-civ-spouse   Handlers-cleaners         Husband   Black     Male   \n",
       "4   Married-civ-spouse      Prof-specialty            Wife   Black   Female   \n",
       "\n",
       "   capital-gain  capital-loss  hours-per-week  native-country  salary  \n",
       "0          2174             0              40   United-States   <=50K  \n",
       "1             0             0              13   United-States   <=50K  \n",
       "2             0             0              40   United-States   <=50K  \n",
       "3             0             0              40   United-States   <=50K  \n",
       "4             0             0              40            Cuba   <=50K  "
      ]
     },
     "execution_count": 2,
     "metadata": {},
     "output_type": "execute_result"
    }
   ],
   "source": [
    "data = pd.read_csv('adult.data.txt')\n",
    "data.head()"
   ]
  },
  {
   "cell_type": "markdown",
   "metadata": {},
   "source": [
    "#### 1. Как много мужчин и женщин представлено в этом наборе данных?"
   ]
  },
  {
   "cell_type": "code",
   "execution_count": 3,
   "metadata": {},
   "outputs": [
    {
     "data": {
      "text/plain": [
       " Male      21790\n",
       " Female    10771\n",
       "Name: sex, dtype: int64"
      ]
     },
     "execution_count": 3,
     "metadata": {},
     "output_type": "execute_result"
    }
   ],
   "source": [
    "data['sex'].value_counts()"
   ]
  },
  {
   "cell_type": "markdown",
   "metadata": {},
   "source": [
    "#### 2. Какой средний возраст женщин?"
   ]
  },
  {
   "cell_type": "code",
   "execution_count": 4,
   "metadata": {},
   "outputs": [
    {
     "data": {
      "text/plain": [
       "36.85823043357163"
      ]
     },
     "execution_count": 4,
     "metadata": {},
     "output_type": "execute_result"
    }
   ],
   "source": [
    "data.loc[data['sex'] == ' Female', 'age'].mean()"
   ]
  },
  {
   "cell_type": "markdown",
   "metadata": {},
   "source": [
    "#### 3. Какой процент жителей Германии?"
   ]
  },
  {
   "cell_type": "code",
   "execution_count": 5,
   "metadata": {},
   "outputs": [
    {
     "data": {
      "text/plain": [
       "0.42074874850281013"
      ]
     },
     "execution_count": 5,
     "metadata": {},
     "output_type": "execute_result"
    }
   ],
   "source": [
    "(float((data['native-country'] == ' Germany').sum()) / data.shape[0])*100"
   ]
  },
  {
   "cell_type": "markdown",
   "metadata": {},
   "source": [
    "#### 4,5. Среднее значение и стандартное отклонение в возрасте для тех, кто зарабатывает больше 50. тыс в год и тех, кто получает меньше 50 тысяч в год?\n",
    "\n",
    "##### Зарплата больше 50 тысяч в год\n",
    "Среднее значение"
   ]
  },
  {
   "cell_type": "code",
   "execution_count": 6,
   "metadata": {},
   "outputs": [
    {
     "data": {
      "text/plain": [
       "44.24984058155847"
      ]
     },
     "execution_count": 6,
     "metadata": {},
     "output_type": "execute_result"
    }
   ],
   "source": [
    "data.loc[data['salary'] == ' >50K', 'age'].mean()"
   ]
  },
  {
   "cell_type": "markdown",
   "metadata": {},
   "source": [
    "Стандартное отклонение"
   ]
  },
  {
   "cell_type": "code",
   "execution_count": 7,
   "metadata": {},
   "outputs": [
    {
     "data": {
      "text/plain": [
       "10.519027719851826"
      ]
     },
     "execution_count": 7,
     "metadata": {},
     "output_type": "execute_result"
    }
   ],
   "source": [
    "data.loc[data['salary'] == ' >50K', 'age'].std()"
   ]
  },
  {
   "cell_type": "markdown",
   "metadata": {},
   "source": [
    "##### Зарплата 50 тысяч и меньше\n",
    "\n",
    "Среднее значение"
   ]
  },
  {
   "cell_type": "code",
   "execution_count": 8,
   "metadata": {},
   "outputs": [
    {
     "data": {
      "text/plain": [
       "36.78373786407767"
      ]
     },
     "execution_count": 8,
     "metadata": {},
     "output_type": "execute_result"
    }
   ],
   "source": [
    "data.loc[data['salary'] == ' <=50K', 'age'].mean()"
   ]
  },
  {
   "cell_type": "markdown",
   "metadata": {},
   "source": [
    "Стандартное отклонение"
   ]
  },
  {
   "cell_type": "code",
   "execution_count": 9,
   "metadata": {},
   "outputs": [
    {
     "data": {
      "text/plain": [
       "14.02008849082488"
      ]
     },
     "execution_count": 9,
     "metadata": {},
     "output_type": "execute_result"
    }
   ],
   "source": [
    "data.loc[data['salary'] == ' <=50K', 'age'].std()"
   ]
  },
  {
   "cell_type": "markdown",
   "metadata": {},
   "source": [
    "#### 6. Правда ли что люди которые получают больше 50 тысяч имеют хотя бы школьное образование? "
   ]
  },
  {
   "cell_type": "code",
   "execution_count": 10,
   "metadata": {},
   "outputs": [],
   "source": [
    "HighSC = {' Bachelors', ' Prof-school', ' Assoc-acdm', ' Assoc-voc', ' Masters', ' Doctorate'}"
   ]
  },
  {
   "cell_type": "code",
   "execution_count": 11,
   "metadata": {},
   "outputs": [
    {
     "name": "stdout",
     "output_type": "stream",
     "text": [
      "Не правда\n"
     ]
    }
   ],
   "source": [
    "for i in data.loc[data['salary'] == ' <=50K', 'education'].unique():\n",
    "    if i not in HighSC:\n",
    "        print('Не правда')\n",
    "        break"
   ]
  },
  {
   "cell_type": "markdown",
   "metadata": {},
   "source": [
    "#### 7. Отобразите статистику вораста для каждой расы и каждого пола. Используйте groupby() и describe(). Найдите максимальный возраст мужчин Американской-инди-эскимосской расы. "
   ]
  },
  {
   "cell_type": "code",
   "execution_count": 12,
   "metadata": {},
   "outputs": [
    {
     "name": "stdout",
     "output_type": "stream",
     "text": [
      "Race:  Amer-Indian-Eskimo, sex:  Female\n",
      "count    119.000000\n",
      "mean      37.117647\n",
      "std       13.114991\n",
      "min       17.000000\n",
      "25%       27.000000\n",
      "50%       36.000000\n",
      "75%       46.000000\n",
      "max       80.000000\n",
      "Name: age, dtype: float64\n",
      "Race:  Amer-Indian-Eskimo, sex:  Male\n",
      "count    192.000000\n",
      "mean      37.208333\n",
      "std       12.049563\n",
      "min       17.000000\n",
      "25%       28.000000\n",
      "50%       35.000000\n",
      "75%       45.000000\n",
      "max       82.000000\n",
      "Name: age, dtype: float64\n",
      "Race:  Asian-Pac-Islander, sex:  Female\n",
      "count    346.000000\n",
      "mean      35.089595\n",
      "std       12.300845\n",
      "min       17.000000\n",
      "25%       25.000000\n",
      "50%       33.000000\n",
      "75%       43.750000\n",
      "max       75.000000\n",
      "Name: age, dtype: float64\n",
      "Race:  Asian-Pac-Islander, sex:  Male\n",
      "count    693.000000\n",
      "mean      39.073593\n",
      "std       12.883944\n",
      "min       18.000000\n",
      "25%       29.000000\n",
      "50%       37.000000\n",
      "75%       46.000000\n",
      "max       90.000000\n",
      "Name: age, dtype: float64\n",
      "Race:  Black, sex:  Female\n",
      "count    1555.000000\n",
      "mean       37.854019\n",
      "std        12.637197\n",
      "min        17.000000\n",
      "25%        28.000000\n",
      "50%        37.000000\n",
      "75%        46.000000\n",
      "max        90.000000\n",
      "Name: age, dtype: float64\n",
      "Race:  Black, sex:  Male\n",
      "count    1569.000000\n",
      "mean       37.682600\n",
      "std        12.882612\n",
      "min        17.000000\n",
      "25%        27.000000\n",
      "50%        36.000000\n",
      "75%        46.000000\n",
      "max        90.000000\n",
      "Name: age, dtype: float64\n",
      "Race:  Other, sex:  Female\n",
      "count    109.000000\n",
      "mean      31.678899\n",
      "std       11.631599\n",
      "min       17.000000\n",
      "25%       23.000000\n",
      "50%       29.000000\n",
      "75%       39.000000\n",
      "max       74.000000\n",
      "Name: age, dtype: float64\n",
      "Race:  Other, sex:  Male\n",
      "count    162.000000\n",
      "mean      34.654321\n",
      "std       11.355531\n",
      "min       17.000000\n",
      "25%       26.000000\n",
      "50%       32.000000\n",
      "75%       42.000000\n",
      "max       77.000000\n",
      "Name: age, dtype: float64\n",
      "Race:  White, sex:  Female\n",
      "count    8642.000000\n",
      "mean       36.811618\n",
      "std        14.329093\n",
      "min        17.000000\n",
      "25%        25.000000\n",
      "50%        35.000000\n",
      "75%        46.000000\n",
      "max        90.000000\n",
      "Name: age, dtype: float64\n",
      "Race:  White, sex:  Male\n",
      "count    19174.000000\n",
      "mean        39.652498\n",
      "std         13.436029\n",
      "min         17.000000\n",
      "25%         29.000000\n",
      "50%         38.000000\n",
      "75%         49.000000\n",
      "max         90.000000\n",
      "Name: age, dtype: float64\n"
     ]
    }
   ],
   "source": [
    "for (race, sex), sub in data.groupby(['race', 'sex']):\n",
    "    print(f\"Race: {race}, sex: {sex}\") \n",
    "    print(sub['age'].describe())"
   ]
  },
  {
   "cell_type": "markdown",
   "metadata": {},
   "source": [
    "Определим самый большой возраст среди мужчин расы АмерканскоИндийскихЭскимо"
   ]
  },
  {
   "cell_type": "code",
   "execution_count": 13,
   "metadata": {},
   "outputs": [
    {
     "data": {
      "text/plain": [
       "82"
      ]
     },
     "execution_count": 13,
     "metadata": {},
     "output_type": "execute_result"
    }
   ],
   "source": [
    "cake=data.loc[data['race'] == ' Amer-Indian-Eskimo']\n",
    "cake.loc[cake['sex'] == ' Male', 'age'].max()"
   ]
  },
  {
   "cell_type": "markdown",
   "metadata": {},
   "source": [
    "#### 8. Доля каких мужчин больше среди тех, кто зарабатывает больше 50 тысяч, женатых или холостяков?"
   ]
  },
  {
   "cell_type": "code",
   "execution_count": 14,
   "metadata": {},
   "outputs": [
    {
     "name": "stdout",
     "output_type": "stream",
     "text": [
      "Доля неженатых мужчин 697\n",
      "Доля женатых мужчин 5965\n",
      "\n",
      "Доля женатых мужчин больше\n"
     ]
    }
   ],
   "source": [
    "not_married_men = data.loc[(data['sex'] == ' Male') &\n",
    "     (data['marital-status'].isin([' Never-married', \n",
    "                                   ' Separated', \n",
    "                                   ' Divorced',\n",
    "                                   ' Widowed']))]\n",
    "\n",
    "married_men = data.loc[(data['sex'] == ' Male') &\n",
    "     (data['marital-status'].isin([' Married-civ-spouse',\n",
    "                                   ' Married-spouse-absent',\n",
    "                                   ' Married-AF-spouse']))]\n",
    "print (f\"Доля неженатых мужчин {(not_married_men['salary'] == ' >50K').sum()}\")\n",
    "print (f\"Доля женатых мужчин {(married_men['salary'] == ' >50K').sum()}\\n\")\n",
    "\n",
    "if ((not_married_men['salary'] == ' >50K').sum() > (married_men['salary'] == ' >50K').sum()):\n",
    "       print('Доля неженатых мужчин больше')\n",
    "elif ((married_men['salary'] == ' >50K').sum() > (not_married_men['salary'] == ' >50K').sum()):\n",
    "       print('Доля женатых мужчин больше')\n",
    "else:\n",
    "       print('Доли женатых и неженатых мужчин равны')\n",
    "\n",
    "       "
   ]
  },
  {
   "cell_type": "markdown",
   "metadata": {},
   "source": [
    "#### 9. Какое максимальное количество часов человек работает в неделю? Как много людей работают столько часов и каков процент тех кто зарабатывает больше 50 тысяч среди них?"
   ]
  },
  {
   "cell_type": "code",
   "execution_count": 15,
   "metadata": {},
   "outputs": [
    {
     "name": "stdout",
     "output_type": "stream",
     "text": [
      "Максимальное количество часов в неделю: 99\n",
      "Количество работающих :столько времени 85\n",
      "Процент тех, кто зарабатывает более 50 тысяч 29.411764705882355\n"
     ]
    }
   ],
   "source": [
    "maxxi = (data['hours-per-week']).max()\n",
    "print (f\"Максимальное количество часов в неделю: {maxxi}\")\n",
    "\n",
    "coun = data.loc[data['hours-per-week'] == 99]\n",
    "countn = coun.shape[0]\n",
    "print (f\"Количество работающих :столько времени {countn}\")\n",
    "\n",
    "perc = float(coun.loc[data['salary'] == ' >50K'].shape[0]) / countn * 100\n",
    "print (f\"Процент тех, кто зарабатывает более 50 тысяч {perc}\")\n"
   ]
  },
  {
   "cell_type": "markdown",
   "metadata": {},
   "source": [
    "#### 10. Посчитаете среднее время работы в неделю для тех кто получает много и мало, для каждой страны. Какими они будут для Японии?"
   ]
  },
  {
   "cell_type": "code",
   "execution_count": 16,
   "metadata": {},
   "outputs": [
    {
     "name": "stdout",
     "output_type": "stream",
     "text": [
      "Среднее пооличество часов работы в неделю \n",
      "\n",
      " United-States\n",
      "Зарплата больше 50 тысяч: 45.50536884674383\n",
      "Зарплата меньше 50 тысяч: 38.79912723305605\n",
      "\n",
      " Cuba\n",
      "Зарплата больше 50 тысяч: 42.44\n",
      "Зарплата меньше 50 тысяч: 37.98571428571429\n",
      "\n",
      " Jamaica\n",
      "Зарплата больше 50 тысяч: 41.1\n",
      "Зарплата меньше 50 тысяч: 38.23943661971831\n",
      "\n",
      " India\n",
      "Зарплата больше 50 тысяч: 46.475\n",
      "Зарплата меньше 50 тысяч: 38.233333333333334\n",
      "\n",
      " ?\n",
      "Зарплата больше 50 тысяч: 45.54794520547945\n",
      "Зарплата меньше 50 тысяч: 40.16475972540046\n",
      "\n",
      " Mexico\n",
      "Зарплата больше 50 тысяч: 46.57575757575758\n",
      "Зарплата меньше 50 тысяч: 40.00327868852459\n",
      "\n",
      " South\n",
      "Зарплата больше 50 тысяч: 51.4375\n",
      "Зарплата меньше 50 тысяч: 40.15625\n",
      "\n",
      " Puerto-Rico\n",
      "Зарплата больше 50 тысяч: 39.416666666666664\n",
      "Зарплата меньше 50 тысяч: 38.470588235294116\n",
      "\n",
      " Honduras\n",
      "Зарплата больше 50 тысяч: 60.0\n",
      "Зарплата меньше 50 тысяч: 34.333333333333336\n",
      "\n",
      " England\n",
      "Зарплата больше 50 тысяч: 44.53333333333333\n",
      "Зарплата меньше 50 тысяч: 40.483333333333334\n",
      "\n",
      " Canada\n",
      "Зарплата больше 50 тысяч: 45.64102564102564\n",
      "Зарплата меньше 50 тысяч: 37.91463414634146\n",
      "\n",
      " Germany\n",
      "Зарплата больше 50 тысяч: 44.97727272727273\n",
      "Зарплата меньше 50 тысяч: 39.13978494623656\n",
      "\n",
      " Iran\n",
      "Зарплата больше 50 тысяч: 47.5\n",
      "Зарплата меньше 50 тысяч: 41.44\n",
      "\n",
      " Philippines\n",
      "Зарплата больше 50 тысяч: 43.032786885245905\n",
      "Зарплата меньше 50 тысяч: 38.065693430656935\n",
      "\n",
      " Italy\n",
      "Зарплата больше 50 тысяч: 45.4\n",
      "Зарплата меньше 50 тысяч: 39.625\n",
      "\n",
      " Poland\n",
      "Зарплата больше 50 тысяч: 39.0\n",
      "Зарплата меньше 50 тысяч: 38.166666666666664\n",
      "\n",
      " Columbia\n",
      "Зарплата больше 50 тысяч: 50.0\n",
      "Зарплата меньше 50 тысяч: 38.68421052631579\n",
      "\n",
      " Cambodia\n",
      "Зарплата больше 50 тысяч: 40.0\n",
      "Зарплата меньше 50 тысяч: 41.416666666666664\n",
      "\n",
      " Thailand\n",
      "Зарплата больше 50 тысяч: 58.333333333333336\n",
      "Зарплата меньше 50 тысяч: 42.86666666666667\n",
      "\n",
      " Ecuador\n",
      "Зарплата больше 50 тысяч: 48.75\n",
      "Зарплата меньше 50 тысяч: 38.041666666666664\n",
      "\n",
      " Laos\n",
      "Зарплата больше 50 тысяч: 40.0\n",
      "Зарплата меньше 50 тысяч: 40.375\n",
      "\n",
      " Taiwan\n",
      "Зарплата больше 50 тысяч: 46.8\n",
      "Зарплата меньше 50 тысяч: 33.774193548387096\n",
      "\n",
      " Haiti\n",
      "Зарплата больше 50 тысяч: 42.75\n",
      "Зарплата меньше 50 тысяч: 36.325\n",
      "\n",
      " Portugal\n",
      "Зарплата больше 50 тысяч: 41.5\n",
      "Зарплата меньше 50 тысяч: 41.93939393939394\n",
      "\n",
      " Dominican-Republic\n",
      "Зарплата больше 50 тысяч: 47.0\n",
      "Зарплата меньше 50 тысяч: 42.338235294117645\n",
      "\n",
      " El-Salvador\n",
      "Зарплата больше 50 тысяч: 45.0\n",
      "Зарплата меньше 50 тысяч: 36.03092783505155\n",
      "\n",
      " France\n",
      "Зарплата больше 50 тысяч: 50.75\n",
      "Зарплата меньше 50 тысяч: 41.05882352941177\n",
      "\n",
      " Guatemala\n",
      "Зарплата больше 50 тысяч: 36.666666666666664\n",
      "Зарплата меньше 50 тысяч: 39.36065573770492\n",
      "\n",
      " China\n",
      "Зарплата больше 50 тысяч: 38.9\n",
      "Зарплата меньше 50 тысяч: 37.38181818181818\n",
      "\n",
      " Japan\n",
      "Зарплата больше 50 тысяч: 47.958333333333336\n",
      "Зарплата меньше 50 тысяч: 41.0\n",
      "\n",
      " Yugoslavia\n",
      "Зарплата больше 50 тысяч: 49.5\n",
      "Зарплата меньше 50 тысяч: 41.6\n",
      "\n",
      " Peru\n",
      "Зарплата больше 50 тысяч: 40.0\n",
      "Зарплата меньше 50 тысяч: 35.06896551724138\n",
      "\n",
      " Outlying-US(Guam-USVI-etc)\n",
      "Зарплата больше 50 тысяч: nan\n",
      "Зарплата меньше 50 тысяч: 41.857142857142854\n",
      "\n",
      " Scotland\n",
      "Зарплата больше 50 тысяч: 46.666666666666664\n",
      "Зарплата меньше 50 тысяч: 39.44444444444444\n",
      "\n",
      " Trinadad&Tobago\n",
      "Зарплата больше 50 тысяч: 40.0\n",
      "Зарплата меньше 50 тысяч: 37.05882352941177\n",
      "\n",
      " Greece\n",
      "Зарплата больше 50 тысяч: 50.625\n",
      "Зарплата меньше 50 тысяч: 41.80952380952381\n",
      "\n",
      " Nicaragua\n",
      "Зарплата больше 50 тысяч: 37.5\n",
      "Зарплата меньше 50 тысяч: 36.09375\n",
      "\n",
      " Vietnam\n",
      "Зарплата больше 50 тысяч: 39.2\n",
      "Зарплата меньше 50 тысяч: 37.193548387096776\n",
      "\n",
      " Hong\n",
      "Зарплата больше 50 тысяч: 45.0\n",
      "Зарплата меньше 50 тысяч: 39.142857142857146\n",
      "\n",
      " Ireland\n",
      "Зарплата больше 50 тысяч: 48.0\n",
      "Зарплата меньше 50 тысяч: 40.94736842105263\n",
      "\n",
      " Hungary\n",
      "Зарплата больше 50 тысяч: 50.0\n",
      "Зарплата меньше 50 тысяч: 31.3\n",
      "\n",
      " Holand-Netherlands\n",
      "Зарплата больше 50 тысяч: nan\n",
      "Зарплата меньше 50 тысяч: 40.0\n",
      "\n"
     ]
    }
   ],
   "source": [
    "rich = data.loc[data['salary'] == ' >50K']\n",
    "poor = data.loc[data['salary'] == ' <=50K']\n",
    "\n",
    "print (\"Среднее пооличество часов работы в неделю \\n\")\n",
    "for country in data['native-country'].unique():\n",
    "    print(country)\n",
    "    print(f\"Зарплата больше 50 тысяч: {rich.loc[rich['native-country'] == country, 'hours-per-week'].mean()}\")\n",
    "    print(f\"Зарплата меньше 50 тысяч: {poor.loc[poor['native-country'] == country, 'hours-per-week'].mean()}\\n\")"
   ]
  },
  {
   "cell_type": "code",
   "execution_count": 17,
   "metadata": {},
   "outputs": [
    {
     "name": "stdout",
     "output_type": "stream",
     "text": [
      "Среднее количество часов для Японии\n",
      "Зарплата больше 50 тысяч: 47.958333333333336\n",
      "Зарплата меньше 50 тысяч: 41.0\n",
      "\n"
     ]
    }
   ],
   "source": [
    "print(\"Среднее количество часов для Японии\")\n",
    "print(f\"Зарплата больше 50 тысяч: {rich.loc[rich['native-country'] == ' Japan', 'hours-per-week'].mean()}\")\n",
    "print(f\"Зарплата меньше 50 тысяч: {poor.loc[poor['native-country'] == ' Japan', 'hours-per-week'].mean()}\\n\")"
   ]
  }
 ],
 "metadata": {
  "kernelspec": {
   "display_name": "Python 3",
   "language": "python",
   "name": "python3"
  },
  "language_info": {
   "codemirror_mode": {
    "name": "ipython",
    "version": 3
   },
   "file_extension": ".py",
   "mimetype": "text/x-python",
   "name": "python",
   "nbconvert_exporter": "python",
   "pygments_lexer": "ipython3",
   "version": "3.7.3"
  }
 },
 "nbformat": 4,
 "nbformat_minor": 2
}
